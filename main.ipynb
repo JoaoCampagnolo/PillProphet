{
  "nbformat": 4,
  "nbformat_minor": 0,
  "metadata": {
    "colab": {
      "provenance": [],
      "authorship_tag": "ABX9TyOtE/A7xLdPgX213oj3Y6ss"
    },
    "kernelspec": {
      "name": "python3",
      "display_name": "Python 3"
    },
    "language_info": {
      "name": "python"
    }
  },
  "cells": [
    {
      "cell_type": "code",
      "execution_count": null,
      "metadata": {
        "id": "ljjwjQDMDHUX"
      },
      "outputs": [],
      "source": []
    }
  ]
}