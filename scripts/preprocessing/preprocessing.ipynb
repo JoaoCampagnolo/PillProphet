{
 "cells": [
  {
   "cell_type": "code",
   "execution_count": 1,
   "metadata": {},
   "outputs": [],
   "source": [
    "import pandas as pd"
   ]
  },
  {
   "cell_type": "code",
   "execution_count": 2,
   "metadata": {},
   "outputs": [],
   "source": [
    "def save_dataframe_to_csv(df, csv_file):\n",
    "    df.to_csv(csv_file, index=False)\n",
    "    print(f\"Data has been saved to '{csv_file}'.\")"
   ]
  },
  {
   "cell_type": "code",
   "execution_count": 3,
   "metadata": {},
   "outputs": [
    {
     "name": "stderr",
     "output_type": "stream",
     "text": [
      "C:\\Users\\lbm852\\AppData\\Local\\Temp/ipykernel_26948/3339099607.py:2: DtypeWarning: Columns (179,180,214,228,229,235,236,237,238,239,241) have mixed types. Specify dtype option on import or set low_memory=False.\n",
      "  df = pd.read_csv(r'C:\\Users\\lbm852\\Documents\\joao\\code_python\\PillProphet\\clinical_trials_data.csv')\n"
     ]
    },
    {
     "name": "stdout",
     "output_type": "stream",
     "text": [
      "Data has been saved to 'clinical_trials_data_preprocessed.csv'.\n"
     ]
    }
   ],
   "source": [
    "# Load your CSV data\n",
    "df = pd.read_csv(r'C:\\Users\\lbm852\\Documents\\joao\\code_python\\PillProphet\\clinical_trials_data.csv')\n",
    "csv_file = 'clinical_trials_data_preprocessed.csv'  # Output CSV file\n",
    "\n",
    "# Identify the text fields to combine\n",
    "text_fields = [\n",
    "    'brief_title',\n",
    "    'official_title',\n",
    "    'brief_summary_textblock',\n",
    "    'detailed_description_textblock',\n",
    "    'eligibility_criteria_textblock',\n",
    "    'primary_outcome_measure',\n",
    "    'primary_outcome_description',\n",
    "    'secondary_outcome_measure',\n",
    "    'secondary_outcome_description',\n",
    "    'intervention_description',\n",
    "    'arm_group_description',\n",
    "    'keyword',\n",
    "    'condition',\n",
    "    'intervention_intervention_name'\n",
    "]\n",
    "\n",
    "# Combine text fields into a single 'combined_text' column\n",
    "df['combined_text'] = df[text_fields].fillna('').apply(lambda x: ' '.join(x), axis=1)\n",
    "save_dataframe_to_csv(df, csv_file)\n"
   ]
  },
  {
   "cell_type": "code",
   "execution_count": null,
   "metadata": {},
   "outputs": [],
   "source": []
  }
 ],
 "metadata": {
  "kernelspec": {
   "display_name": "base",
   "language": "python",
   "name": "python3"
  },
  "language_info": {
   "codemirror_mode": {
    "name": "ipython",
    "version": 3
   },
   "file_extension": ".py",
   "mimetype": "text/x-python",
   "name": "python",
   "nbconvert_exporter": "python",
   "pygments_lexer": "ipython3",
   "version": "3.9.18"
  }
 },
 "nbformat": 4,
 "nbformat_minor": 2
}
